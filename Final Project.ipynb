{
 "cells": [
  {
   "cell_type": "code",
   "execution_count": 40,
   "id": "96e7ddd9",
   "metadata": {},
   "outputs": [],
   "source": [
    "import numpy as np \n",
    "import pandas as pd \n",
    "import matplotlib.pyplot as plt\n",
    "import seaborn as sns \n",
    "import csv\n",
    "import datetime\n",
    "import gensim\n",
    "import statistics"
   ]
  },
  {
   "cell_type": "code",
   "execution_count": 53,
   "id": "0550e536",
   "metadata": {},
   "outputs": [
    {
     "name": "stdout",
     "output_type": "stream",
     "text": [
      "Enter your text: she is pretty. he is smart. the dress looked good on her\n"
     ]
    }
   ],
   "source": [
    "text = input(\"Enter your text: \") #she is pretty. he is smart. the dress looked good on her"
   ]
  },
  {
   "cell_type": "code",
   "execution_count": 57,
   "id": "337b9e14",
   "metadata": {},
   "outputs": [],
   "source": [
    "import spacy\n",
    "import matplotlib.pyplot as plt\n",
    "\n",
    "nlp = spacy.load('en_core_web_sm')\n",
    "\n",
    "#extracting subject and object from sentence\n",
    "def extract_subject_object(sentence):\n",
    "    sents = nlp(sentence)\n",
    "    subject = ''\n",
    "    obj = ''\n",
    "\n",
    "    for token in sents:\n",
    "        if 'subj' in token.dep_:\n",
    "            subject = token.text\n",
    "        elif 'obj' in token.dep_:\n",
    "            obj = token.text\n",
    "\n",
    "    return subject, obj\n",
    "\n",
    "# counting occurences of certain words in each linguistic category\n",
    "def count_language_category(sentences, category_keywords):\n",
    "    count = 0\n",
    "\n",
    "    for sentence in sentences:\n",
    "        for word in category_keywords:\n",
    "            if word in sentence.lower():\n",
    "                count += 1\n",
    "                break\n",
    "\n",
    "    return count\n",
    "\n",
    "def analyze_text(paragraph):\n",
    "    doc = nlp(paragraph)\n",
    "    female_sentences = []\n",
    "    male_sentences = []\n",
    "\n",
    "    # LIWC categories\n",
    "    objectifying_language = {'sexy', 'attractive', 'ugly', 'fat', 'chubby', 'makeup', 'dress', 'curvy', 'whimsical', 'diet', 'busty', 'smile', 'clothing', 'fashion', 'outfit', 'lips', 'beauty', 'model', 'swimwear', 'gorgeous', 'posterior', 'temptress', 'weight', 'hair', 'bra', 'underwear', 'romantic', 'erotic', 'charming', 'healthy', 'stylish', 'provocative', 'skinny', 'obese', 'manicures', 'slut', 'whore', 'cute', 'shaving', 'trendy', 'prepubescent', 'cheeky', 'clothes', 'seductive', 'elegant', 'glamorous', 'dresses', 'desirable', 'appealing', 'exotic', 'facelift', 'plastic surgery', 'botox', 'unattractive', 'alluring', 'feminine', 'good-looking', 'modeling', 'remarkable', 'supermodel', 'blouse', 'bikini', 'hot', 'young', 'trashy', 'waist', 'blonde', 'brunette', 'hair', 'pretty', 'bra', 'underwear', 'panties'}\n",
    "    success_language = {'success', 'achieve', 'accomplish', 'victory', 'win', 'triumph', 'goals', 'ambition', 'progress', 'victorious', 'accomplishment', 'persistence', 'perseverance', 'fulfillment', 'prosperity', 'advance', 'advancement', 'conquer', 'mastery', 'attain', 'thriving', 'excellence', 'achievement', 'triumphant', 'thriving', 'prosperous', 'victor', 'champion', 'succeed', 'winner', 'aspiration', 'realize', 'attainment', 'conquest', 'thrive', 'victorious', 'successes', 'successful', 'triumphal', 'advance', 'victories', 'realization', 'breakthrough', 'accomplishments', 'prosper', 'fulfill', 'master', 'achiever', 'progression', 'advance', 'rising', 'top', 'satisfying', 'fulfilled', 'realizing', 'growth', 'satisfactory', 'fulfilling', 'attained', 'prospered', 'realized', 'realizes', 'progressing', 'conquered', 'thrives', 'successful', 'accomplished', 'breakthroughs', 'mastery', 'advancements', 'triumphs', 'succeeds', 'victoriously', 'achievements', 'aspirations', 'masteries', 'victories', 'prosperity', 'realizations', 'fulfillments', 'attainments', 'conquests'}\n",
    "    smartness_language = {'intelligence', 'smart', 'knowledge', 'wise', 'clever', 'intellect', 'genius', 'bright', 'brainy', 'learned', 'brilliant', 'astute', 'perceptive', 'sage', 'savvy', 'shrewd', 'erudite', 'cunning', 'perceptive', 'insightful', 'sharp', 'intelligent', 'intellectual', 'acumen', 'aptitude', 'cognition', 'cognitive', 'reasoning', 'wisdom', 'sophisticated', 'analytical', 'brainpower', 'logical', 'foresight', 'discerning', 'perception', 'comprehension', 'mindful', 'knowing', 'expertise'}\n",
    "    kindness_docility_language = {'kind', 'gentle', 'compassion', 'humility', 'tenderness', 'patience', 'sympathy', 'considerate', 'courtesy', 'empathy', 'tolerance', 'compliant', 'complaisant', 'agreeable', 'amicable', 'submissive', 'mildness', 'good-hearted', 'benevolence', 'calmness', 'softness', 'peacefulness', 'sweetness', 'affability', 'gentle-hearted', 'cordial', 'charitable', 'agreeableness', 'meekness', 'pliability', 'docility', 'pliant', 'obedient', 'malleable', 'pliant', 'pliantness', 'manageable', 'tractable', 'mild', 'yielding', 'docile'}\n",
    "\n",
    "    for sent in doc.sents:\n",
    "        subject, obj = extract_subject_object(sent.text)\n",
    "        \n",
    "        pronouns_women = {'she', 'her', 'hers', 'herself'}\n",
    "        pronouns_men = {'he', 'him', 'his', 'himself'}\n",
    "        subject_words = set(subject.lower().split())\n",
    "        obj_words = set(obj.lower().split())\n",
    "\n",
    "        if any(pronoun in pronouns_women for pronoun in subject_words.union(obj_words)):\n",
    "            female_sentences.append(sent.text)\n",
    "        elif any(pronoun in pronouns_men for pronoun in subject_words.union(obj_words)):\n",
    "            male_sentences.append(sent.text)\n",
    "\n",
    "    objectifying_female = count_language_category(female_sentences, objectifying_language)\n",
    "    objectifying_male = count_language_category(male_sentences, objectifying_language)\n",
    "\n",
    "    success_female = count_language_category(female_sentences, success_language)\n",
    "    success_male = count_language_category(male_sentences, success_language)\n",
    "\n",
    "    smartness_female = count_language_category(female_sentences, smartness_language)\n",
    "    smartness_male = count_language_category(male_sentences, smartness_language)\n",
    "\n",
    "    kindness_docility_female = count_language_category(female_sentences, kindness_docility_language)\n",
    "    kindness_docility_male = count_language_category(male_sentences, kindness_docility_language)\n",
    "\n",
    "    return (\n",
    "        len(female_sentences),\n",
    "        len(male_sentences),\n",
    "        objectifying_female,\n",
    "        objectifying_male,\n",
    "        success_female,\n",
    "        success_male,\n",
    "        smartness_female,\n",
    "        smartness_male,\n",
    "        kindness_docility_female,\n",
    "        kindness_docility_male,\n",
    "    )\n",
    "\n"
   ]
  },
  {
   "cell_type": "code",
   "execution_count": 58,
   "id": "95349e7c",
   "metadata": {},
   "outputs": [
    {
     "name": "stdout",
     "output_type": "stream",
     "text": [
      "Female Sentences: 2\n",
      "Male Sentences: 1\n",
      "\n",
      "Objectifying Language - Female Sentences: 2\n",
      "Objectifying Language - Male Sentences: 0\n",
      "\n",
      "Success and Achievement Language - Female Sentences: 0\n",
      "Success and Achievement Language - Male Sentences: 0\n",
      "\n",
      "Smartness Language - Female Sentences: 0\n",
      "Smartness Language - Male Sentences: 1\n",
      "\n",
      "Kindness and Docility Language - Female Sentences: 0\n",
      "Kindness and Docility Language - Male Sentences: 0\n"
     ]
    },
    {
     "data": {
      "image/png": "[encoded data removed]",
      "text/plain": [
       "<Figure size 432x288 with 1 Axes>"
      ]
     },
     "metadata": {
      "needs_background": "light"
     },
     "output_type": "display_data"
    }
   ],
   "source": [
    "#old\n",
    "(\n",
    "    female_sentences_count,\n",
    "    male_sentences_count,\n",
    "    objectifying_female_count,\n",
    "    objectifying_male_count,\n",
    "    success_female_count,\n",
    "    success_male_count,\n",
    "    smartness_female_count,\n",
    "    smartness_male_count,\n",
    "    kindness_docility_female_count,\n",
    "    kindness_docility_male_count,\n",
    ") = analyze_text(text)\n",
    "\n",
    "\n",
    "print(\"Female Sentences:\", female_sentences_count)\n",
    "print(\"Male Sentences:\", male_sentences_count)\n",
    "\n",
    "print(\"\\nObjectifying Language - Female Sentences:\", objectifying_female_count)\n",
    "print(\"Objectifying Language - Male Sentences:\", objectifying_male_count)\n",
    "\n",
    "print(\"\\nSuccess and Achievement Language - Female Sentences:\", success_female_count)\n",
    "print(\"Success and Achievement Language - Male Sentences:\", success_male_count)\n",
    "\n",
    "print(\"\\nSmartness Language - Female Sentences:\", smartness_female_count)\n",
    "print(\"Smartness Language - Male Sentences:\", smartness_male_count)\n",
    "\n",
    "print(\"\\nKindness and Docility Language - Female Sentences:\", kindness_docility_female_count)\n",
    "print(\"Kindness and Docility Language - Male Sentences:\", kindness_docility_male_count)\n",
    "\n",
    "\n",
    "categories = ['Objectifying', 'Success/Achievement', 'Smartness', 'Kindness/Docility']\n",
    "female_counts = [objectifying_female_count, success_female_count, smartness_female_count, kindness_docility_female_count]\n",
    "male_counts = [objectifying_male_count, success_male_count, smartness_male_count, kindness_docility_male_count]\n",
    "\n",
    "# plot\n",
    "bar_width = 0.35\n",
    "index = range(len(categories))\n",
    "\n",
    "fig, ax = plt.subplots()\n",
    "bar1 = ax.bar(index, female_counts, bar_width, label='Female')\n",
    "bar2 = ax.bar([i + bar_width for i in index], male_counts, bar_width, label='Male')\n",
    "\n",
    "ax.set_xlabel('Language Categories')\n",
    "ax.set_ylabel('Count')\n",
    "ax.set_title('Counts of Language Categories in Male and Female Sentences')\n",
    "ax.set_xticks([i + bar_width/2 for i in index])\n",
    "ax.set_xticklabels(categories)\n",
    "ax.legend()\n",
    "\n",
    "plt.tight_layout()\n",
    "plt.show()\n"
   ]
  },
  {
   "cell_type": "code",
   "execution_count": null,
   "id": "992e0740",
   "metadata": {},
   "outputs": [],
   "source": []
  }
 ],
 "metadata": {
  "kernelspec": {
   "display_name": "Python 3",
   "language": "python",
   "name": "python3"
  },
  "language_info": {
   "codemirror_mode": {
    "name": "ipython",
    "version": 3
   },
   "file_extension": ".py",
   "mimetype": "text/x-python",
   "name": "python",
   "nbconvert_exporter": "python",
   "pygments_lexer": "ipython3",
   "version": "3.8.8"
  }
 },
 "nbformat": 4,
 "nbformat_minor": 5
}
